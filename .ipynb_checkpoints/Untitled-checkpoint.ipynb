{
 "cells": [
  {
   "cell_type": "code",
   "execution_count": 1,
   "metadata": {},
   "outputs": [],
   "source": [
    "import requests\n",
    "import lxml\n",
    "from lxml import etree"
   ]
  },
  {
   "cell_type": "code",
   "execution_count": 11,
   "metadata": {},
   "outputs": [],
   "source": [
    "\n",
    "link = \"http://guba.eastmoney.com/news,600000,176775237_2.html\"\n",
    "#link = \"http://guba.eastmoney.com/news,600000,759568218.html\"\n",
    "r = requests.get(link)\n",
    "html= etree.HTML(r.text)"
   ]
  },
  {
   "cell_type": "code",
   "execution_count": 33,
   "metadata": {},
   "outputs": [
    {
     "name": "stdout",
     "output_type": "stream",
     "text": [
      "{'reply_to_user_nickname': '大智若愚1688', 'reply_to_comment': '[大笑][赞][献花]股市花花世界。没有绝对的对错。 但是信守坚定，顺逆自如是睿者。 只是在路上。 我们一定不要忘却人性初衷。 学会问自己： 我为什么来？ 来这里干什么？ 汲取的目的是什么？ 达成后我是不是还是原来的我？', 'reply_to_comment_id': '7858491937'}\n",
      "{'reply_to_user_nickname': '上海网友', 'reply_to_comment': '我是和平星，打牌开始，出1，再出5，出3再出6，瓶7，再出5，停3，出1，开4，菔9，打牌完成。太平阳。', 'reply_to_comment_id': '7858974741'}\n",
      "{'reply_to_user_nickname': '捂股丰登2018', 'reply_to_comment': '小浦停牌闲无聊', 'reply_to_comment_id': '7859096087'}\n",
      "{'reply_to_user_nickname': '捂股丰登2018', 'reply_to_comment': '小浦停牌闲无聊', 'reply_to_comment_id': '7859096087'}\n"
     ]
    }
   ],
   "source": [
    "comments = html.xpath('//div[@id=\"mainbody\"]/div[@id=\"zwlist\"]//div[@class=\"zwli clearfix\"]')\n",
    "for comment in comments:\n",
    "    reply_to = comment.xpath('div[@class=\"zwlitx\"]/div/div[@class=\"zwlitalkbox clearfix\"]')\n",
    "    if len(reply_to) == 0:\n",
    "            continue\n",
    "    if len(reply_to[0].xpath('div/a')) != 0:\n",
    "        reply_to_user_nickname = reply_to[0].xpath('div/a')[0].text.strip()\n",
    "    else:  #如果回复的对象是如“http://guba.eastmoney.com/news,600000,176775237_2.html#storeply”\n",
    "        reply_to_user_nickname = reply_to[0].xpath('div/span')[0].text.strip()\n",
    "    reply_to_comment = ''\n",
    "    reply_to_comment_imgs = reply_to[0].xpath('div/span/img')\n",
    "    if len(reply_to_comment_imgs) != 0:\n",
    "        for img in reply_to_comment_imgs:\n",
    "            reply_to_comment += '['+img.attrib['title']+']'\n",
    "    if (reply_to[0].xpath('div/span'))!= None and len((reply_to[0].xpath('div//span'))) != 0:\n",
    "        if len(reply_to[0].xpath('div//span')) == 1:\n",
    "            reply_to_comment += reply_to[0].xpath('div/span[1]//text()')[0].strip()\n",
    "        elif len(reply_to[0].xpath('div//span')) == 2:\n",
    "            reply_to_comment += reply_to[0].xpath('div/span[2]//text()')[0].strip()\n",
    "    reply_to_comment_id = reply_to[0].xpath('div')[0].attrib['data-huifuid']\n",
    "    reply_to_dict = {\n",
    "                'reply_to_user_nickname': reply_to_user_nickname,\n",
    "                'reply_to_comment': reply_to_comment,\n",
    "                'reply_to_comment_id': reply_to_comment_id\n",
    "    }\n",
    "    print(reply_to_dict)"
   ]
  },
  {
   "cell_type": "code",
   "execution_count": null,
   "metadata": {},
   "outputs": [],
   "source": []
  }
 ],
 "metadata": {
  "kernelspec": {
   "display_name": "Python 3",
   "language": "python",
   "name": "python3"
  },
  "language_info": {
   "codemirror_mode": {
    "name": "ipython",
    "version": 3
   },
   "file_extension": ".py",
   "mimetype": "text/x-python",
   "name": "python",
   "nbconvert_exporter": "python",
   "pygments_lexer": "ipython3",
   "version": "3.6.4"
  }
 },
 "nbformat": 4,
 "nbformat_minor": 2
}
